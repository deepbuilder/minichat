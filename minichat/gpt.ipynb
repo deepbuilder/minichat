{
 "cells": [
  {
   "cell_type": "code",
   "execution_count": 1,
   "id": "5fbaee53",
   "metadata": {},
   "outputs": [],
   "source": [
    "import torch\n",
    "import torch.nn as nn\n",
    "import torch.nn.functional as F"
   ]
  },
  {
   "cell_type": "code",
   "execution_count": 2,
   "id": "61787055",
   "metadata": {},
   "outputs": [],
   "source": [
    "from dataclasses import dataclass\n",
    "\n",
    "@dataclass\n",
    "class GPTConfig:\n",
    "    sequence_len: int = 1024\n",
    "    vocab_size: int = 50304\n",
    "    n_layer :int = 12\n",
    "    n_head: int = 6\n",
    "    n_embd: int = 768"
   ]
  },
  {
   "cell_type": "code",
   "execution_count": 3,
   "id": "284bfd58",
   "metadata": {},
   "outputs": [],
   "source": [
    "class CausalSelfAttention(nn.Module):\n",
    "    def __init__(self, config, layer_idx):\n",
    "        super().__init__()     \n",
    "        self.layer_idx = layer_idx\n",
    "        self.n_head = config.n_head\n",
    "        self.n_kv_head = config.n_kv_head\n",
    "        self.n_embd = config.n_embd\n",
    "        self.head_dim = self.n_embd // self.n_head\n",
    "        assert self.n_embd % self.n_head == 0\n",
    "        self.c_q = nn.Linear(self.n_embd, self.n_head * self.head_dim, bias=False)\n",
    "        self.c_k = nn.Linear(self.n_embd, self.n_head * self.head_dim, bias=False)\n",
    "        self.c_v = nn.Linear(self.n_embd, self.n_head * self.head_dim, bias=False)\n",
    "        self.c_proj = nn.Linear(self.n_embd, self.n_embd, bias=False)\n",
    "\n",
    "    def forward(self, x):\n",
    "        B, T, C =  x.size()\n",
    "\n",
    "        q = self.c_q(x).view(B, T, self.n_head, self.head_dim) # B, T, H, D\n",
    "        k = self.c_k(x).view(B, T, self.n_head, self.head_dim) # B, T, H, D\n",
    "        v = self.c_v(x).view(B, T, self.n_head, self.head_dim) # B, T, H, D\n",
    "\n",
    "        q, k, v = q.transpose(1, 2), k.transpose(1, 2), v.transpose(1, 2)  # B, H, T, D\n",
    "\n",
    "        y = F.scaled_dot_product_attention(q, k, v, is_causal=True) # B, H, T, D\n",
    "\n",
    "        y = y.transpose(1, 2).contigous().view(B, T ,-1) # B, H, T, D -> B, T, H, D -> B, T, C\n",
    "\n",
    "        y = self.c_proj(y) # B, T, C\n",
    "        \n",
    "        return y"
   ]
  },
  {
   "cell_type": "code",
   "execution_count": 4,
   "id": "64aab30b",
   "metadata": {},
   "outputs": [],
   "source": [
    "class MLP(nn.Module):\n",
    "    def __init__(self, config):\n",
    "        super().__init__()\n",
    "        self.c_fc = nn.Linear(config.n_embd, 4* config.n_embd, bias=False)\n",
    "        self.c_proj = nn.Linear(4*config.n_embd, config.n_embd, bias=False)\n",
    "    \n",
    "    def forward(self, x):\n",
    "        x = self.c_fc(x)\n",
    "        x = F.relu(x).square()\n",
    "        x = self.c_proj(x)\n",
    "        return x\n"
   ]
  },
  {
   "cell_type": "code",
   "execution_count": 5,
   "id": "ab58269b",
   "metadata": {},
   "outputs": [],
   "source": [
    "def norm(x):\n",
    "    return F.rms_norm(x, (x.size(-1),))"
   ]
  },
  {
   "cell_type": "code",
   "execution_count": 6,
   "id": "7b505759",
   "metadata": {},
   "outputs": [],
   "source": [
    "class Block(nn.Module):\n",
    "    def __init__(self, config, layer_idx):\n",
    "        super().__init__()\n",
    "        self.attn = CausalSelfAttention(config, layer_idx)\n",
    "        self.mlp = MLP(config)\n",
    "    \n",
    "    def forward(self,x):\n",
    "        x = x + self.attn(norm(x))\n",
    "        x = x + self.mlp(norm(x))\n",
    "        return x"
   ]
  },
  {
   "cell_type": "code",
   "execution_count": null,
   "id": "aa35d6ad",
   "metadata": {},
   "outputs": [],
   "source": [
    "class GPT(nn.Module):\n",
    "    def __init__(self, config):\n",
    "        super().__init__()\n",
    "        self.config = config\n",
    "        self.transformer = nn.ModuleList({\n",
    "            \"wte\": nn.Embedding(config.vocab_size, config.n_embd),\n",
    "            \"h\": nn.ModuleList([Block(config, layer_idx) for layer_idx in range()])\n",
    "        })\n",
    "        self.lm_head = nn.Linear(config.n_embd, config.vocab_size, bias=False)\n",
    "        head_dim = config.n_embd // config.n_head\n",
    "        self.transformer.wte.to(dtype=torch.bfloat16)\n",
    "        \n",
    "\n",
    "\n",
    "\n",
    "\n"
   ]
  }
 ],
 "metadata": {
  "kernelspec": {
   "display_name": "minichat-py3.10",
   "language": "python",
   "name": "python3"
  },
  "language_info": {
   "codemirror_mode": {
    "name": "ipython",
    "version": 3
   },
   "file_extension": ".py",
   "mimetype": "text/x-python",
   "name": "python",
   "nbconvert_exporter": "python",
   "pygments_lexer": "ipython3",
   "version": "3.10.12"
  }
 },
 "nbformat": 4,
 "nbformat_minor": 5
}
