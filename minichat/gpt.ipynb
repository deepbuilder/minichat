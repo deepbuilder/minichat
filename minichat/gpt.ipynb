{
 "cells": [
  {
   "cell_type": "code",
   "execution_count": 1,
   "id": "5fbaee53",
   "metadata": {},
   "outputs": [],
   "source": [
    "import torch\n",
    "import torch.nn as nn"
   ]
  },
  {
   "cell_type": "code",
   "execution_count": 2,
   "id": "61787055",
   "metadata": {},
   "outputs": [],
   "source": [
    "from dataclasses import dataclass\n",
    "\n",
    "@dataclass\n",
    "class GPTConfig:\n",
    "    sequence_len: int = 1024\n",
    "    vocab_size: int = 50304\n",
    "    n_layer :int = 12\n",
    "    n_head: int = 6\n",
    "    n_kv_head: int = 6\n",
    "    n_embd: int = 768"
   ]
  },
  {
   "cell_type": "code",
   "execution_count": null,
   "id": "284bfd58",
   "metadata": {},
   "outputs": [],
   "source": [
    "class CausalSelfAttention(nn.Module):\n",
    "    def __init__(self, config, layer_idx):\n",
    "        super().__init__()     \n",
    "        self.layer_idx = layer_idx\n",
    "        self.n_head = config.n_head\n",
    "        self.n_kv_head = config.n_kv_head\n",
    "        self.n_embd = config.n_embd\n",
    "        self.head_dim = self.n_embd // self.n_head\n",
    "        assert self.n_embd % self.n_head == 0\n",
    "        assert self.n_kv_head < self.n_head and self.n_head % self.n_kv_head == 0\n",
    "        self.c_q = nn.Linear(self.n_embd, self.n_head * self.head_dim, bias=False)\n",
    "        self.c_k = nn.Linear(self.n_embd, self.n_kv_head * self.head_dim, bias=False)\n",
    "        self.c_v = nn.Linear(self.n_embd, self.n_kv_head * self.head_dim, bias=False)\n",
    "        self.c_proj = nn.Linear(self.n_embd, self.n_embd, bias=False)\n",
    "\n",
    "    def forward(self, x, cos_sin, kv_cache):\n",
    "        B, T, C =  x.size()\n",
    "\n",
    "        q = self.c_q(x).view(B, T, self.n_head, self.head_dim)\n",
    "        k = self.c_k(x).view(B, T, self.n_kv_head, self.head_dim)\n",
    "        v = self.c_v(x).view(B, T, self.n_kv_head, self.head_dim)\n",
    "\n",
    "        cos, sin = cos_sin\n",
    "        q, k, v = q.transpose(1, 2), k.transpose(1, 2), v.transpose(1, 2)\n",
    "        if kv_cache is not None:\n",
    "            k, v = kv_cache.insert_kv(self.layer_idx, k, v)\n",
    "        Tq = q.size(2)\n",
    "        Tk = k.size(2)\n",
    "\n",
    "\n",
    "        nrep = self.n_head // self.n_kv_head\n",
    "        \n"
   ]
  }
 ],
 "metadata": {
  "kernelspec": {
   "display_name": "minichat-cFZp-bAb-py3.10",
   "language": "python",
   "name": "python3"
  },
  "language_info": {
   "codemirror_mode": {
    "name": "ipython",
    "version": 3
   },
   "file_extension": ".py",
   "mimetype": "text/x-python",
   "name": "python",
   "nbconvert_exporter": "python",
   "pygments_lexer": "ipython3",
   "version": "3.10.12"
  }
 },
 "nbformat": 4,
 "nbformat_minor": 5
}
