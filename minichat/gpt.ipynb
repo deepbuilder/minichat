{
 "cells": [
  {
   "cell_type": "code",
   "execution_count": null,
   "id": "5fbaee53",
   "metadata": {},
   "outputs": [],
   "source": [
    "import torch\n",
    "import torch.nn as nn\n",
    "import torch.nn.functional as F"
   ]
  },
  {
   "cell_type": "code",
   "execution_count": null,
   "id": "284bfd58",
   "metadata": {},
   "outputs": [],
   "source": [
    "class CausalSelfAttention(nn.Module):\n",
    "    def __init__(self, config, layer_idx):\n",
    "        super().__init__()     \n",
    "        self.layer_idx = layer_idx\n",
    "        self.n_head = config.n_head\n",
    "        self.n_kv_head = config.n_kv_head\n",
    "        self.n_embd = config.n_embd\n",
    "        self.head_dim = self.n_embd // self.n_head\n",
    "        assert self.n_embd % self.n_head == 0\n",
    "        self.c_q = nn.Linear(self.n_embd, self.n_head * self.head_dim, bias=False)\n",
    "        self.c_k = nn.Linear(self.n_embd, self.n_head * self.head_dim, bias=False)\n",
    "        self.c_v = nn.Linear(self.n_embd, self.n_head * self.head_dim, bias=False)\n",
    "        self.c_proj = nn.Linear(self.n_embd, self.n_embd, bias=False)\n",
    "\n",
    "    def forward(self, x):\n",
    "        B, T, C =  x.size()\n",
    "\n",
    "        q = self.c_q(x).view(B, T, self.n_head, self.head_dim) # B, T, H, D\n",
    "        k = self.c_k(x).view(B, T, self.n_head, self.head_dim) # B, T, H, D\n",
    "        v = self.c_v(x).view(B, T, self.n_head, self.head_dim) # B, T, H, D\n",
    "\n",
    "        q, k, v = q.transpose(1, 2), k.transpose(1, 2), v.transpose(1, 2)  # B, H, T, D\n",
    "\n",
    "        y = F.scaled_dot_product_attention(q, k, v, is_causal=True) # B, H, T, D\n",
    "\n",
    "        y = y.transpose(1, 2).contiguous().view(B, T, -1) # B, H, T, D -> B, T, H, D -> B, T, C\n",
    "\n",
    "        y = self.c_proj(y) # B, T, C\n",
    "        \n",
    "        return y"
   ]
  },
  {
   "cell_type": "code",
   "execution_count": null,
   "id": "64aab30b",
   "metadata": {},
   "outputs": [],
   "source": [
    "class MLP(nn.Module):\n",
    "    def __init__(self, config):\n",
    "        super().__init__()\n",
    "        self.c_fc = nn.Linear(config.n_embd, 4* config.n_embd, bias=False)\n",
    "        self.c_proj = nn.Linear(4*config.n_embd, config.n_embd, bias=False)\n",
    "    \n",
    "    def forward(self, x):\n",
    "        x = self.c_fc(x)\n",
    "        x = F.relu(x).square()\n",
    "        x = self.c_proj(x)\n",
    "        return x\n"
   ]
  },
  {
   "cell_type": "code",
   "execution_count": null,
   "id": "ab58269b",
   "metadata": {},
   "outputs": [],
   "source": [
    "def norm(x):\n",
    "    return F.rms_norm(x, (x.size(-1),))"
   ]
  },
  {
   "cell_type": "code",
   "execution_count": null,
   "id": "7b505759",
   "metadata": {},
   "outputs": [],
   "source": [
    "class Block(nn.Module):\n",
    "    def __init__(self, config, layer_idx):\n",
    "        super().__init__()\n",
    "        self.attn = CausalSelfAttention(config, layer_idx)\n",
    "        self.mlp = MLP(config)\n",
    "    \n",
    "    def forward(self, x):\n",
    "        x = x + self.attn(norm(x))\n",
    "        x = x + self.mlp(norm(x))\n",
    "        return x"
   ]
  },
  {
   "cell_type": "code",
   "execution_count": null,
   "id": "aa35d6ad",
   "metadata": {},
   "outputs": [],
   "source": [
    "class GPT(nn.Module):\n",
    "    def __init__(self, config):\n",
    "        super().__init__()\n",
    "        self.config = config\n",
    "        self.transformer = nn.ModuleDict({\n",
    "            \"wte\": nn.Embedding(config.vocab_size, config.n_embd),\n",
    "            \"pte\": nn.Embedding(config.sequence_len, config.n_embd),\n",
    "            \"h\": nn.ModuleList([Block(config, layer_idx) for layer_idx in range(config.n_layer)])\n",
    "        })\n",
    "        self.lm_head = nn.Linear(config.n_embd, config.vocab_size, bias=False)\n",
    "        head_size = config.n_embd // config.n_head\n",
    "    \n",
    "    def forward(self, idx, targets=None, loss_reduction='mean'):\n",
    "        B,T = idx.size()\n",
    "        x = self.transformer.wte(idx) + self.transformer.pte(torch.arange(T, device='cuda'))\n",
    "        x = norm(x)\n",
    "        for block in self.transformer.h:\n",
    "            x = block(x)\n",
    "        \n",
    "        x = norm(x)\n",
    "        if targets is not None:\n",
    "            logits = self.lm_head(x)\n",
    "            logits = logits.float()\n",
    "            loss = F.cross_entropy(logits.view(-1, logits.size(-1)), targets.view(-1), ignore_index=-1, reduction=loss_reduction)\n",
    "            return loss, logits\n",
    "\n",
    "        else:\n",
    "            logits = self.lm_head(x)\n",
    "            return logits\n",
    "    \n",
    "    def generate(self, idx, seq_len):\n",
    "\n",
    "        for _ in range(seq_len):\n",
    "            logits = self(idx)\n",
    "            last_idx = logits[:, -1, :]\n",
    "            last_token = F.softmax(last_idx, dim=-1)\n",
    "            idx_next = torch.multinomial(last_token, num_samples=1)\n",
    "            idx = torch.cat((idx, idx_next), dim=1)\n",
    "        return idx"
   ]
  },
  {
   "cell_type": "code",
   "execution_count": null,
   "id": "c6d8edb1",
   "metadata": {},
   "outputs": [],
   "source": [
    "# Data loading from shakespeare dataset\n",
    "\n",
    "# We always start with a dataset to train on. Let's download the tiny shakespeare dataset\n",
    "#!wget https://raw.githubusercontent.com/karpathy/char-rnn/master/data/tinyshakespeare/input.txt"
   ]
  },
  {
   "cell_type": "code",
   "execution_count": null,
   "id": "7833f648",
   "metadata": {},
   "outputs": [],
   "source": [
    "# read it in to inspect it\n",
    "with open('input.txt', 'r', encoding='utf-8') as f:\n",
    "    text = f.read()"
   ]
  },
  {
   "cell_type": "code",
   "execution_count": null,
   "id": "9a66a4f1",
   "metadata": {},
   "outputs": [],
   "source": [
    "vocab_size = len(set(text))\n",
    "\n",
    "train_size = int(0.9 * len(text))"
   ]
  },
  {
   "cell_type": "code",
   "execution_count": null,
   "id": "d36f9c6e",
   "metadata": {},
   "outputs": [],
   "source": [
    "encode = {}\n",
    "decode = {}\n",
    "for i, t in enumerate(set(text)):\n",
    "    encode[t] = i\n",
    "    decode[i] = t"
   ]
  },
  {
   "cell_type": "code",
   "execution_count": null,
   "id": "71310e6c",
   "metadata": {},
   "outputs": [],
   "source": [
    "encoder = lambda text: [encode[x] for x in text]\n",
    "decoder = lambda ids: ''.join(decode[i] for i in ids)"
   ]
  },
  {
   "cell_type": "code",
   "execution_count": null,
   "id": "65c02ee3",
   "metadata": {},
   "outputs": [],
   "source": [
    "data = encoder(text)\n",
    "train_data = data[:train_size]\n",
    "val_data = data[train_size+1:]"
   ]
  },
  {
   "cell_type": "code",
   "execution_count": null,
   "id": "bbf4abbd",
   "metadata": {},
   "outputs": [],
   "source": [
    "block_size = 256\n",
    "batch_size = 64"
   ]
  },
  {
   "cell_type": "code",
   "execution_count": null,
   "id": "c2c2b1b9",
   "metadata": {},
   "outputs": [],
   "source": [
    "import torch\n",
    "torch.manual_seed(1443)\n",
    "\n",
    "def get_data(split='train', device='cuda'):\n",
    "    data = train_data if split == 'train' else val_data\n",
    "    ix = torch.randint(len(data)-block_size, (batch_size,))\n",
    "    x = torch.stack([torch.tensor(data[i:i+block_size]) for i in ix])\n",
    "    y = torch.stack([torch.tensor(data[i+1:i+block_size+1]) for i in ix])\n",
    "    if device == 'cuda':\n",
    "        return x.cuda(), y.cuda()\n",
    "    return x, y"
   ]
  },
  {
   "cell_type": "code",
   "execution_count": null,
   "id": "4eba0327",
   "metadata": {},
   "outputs": [],
   "source": [
    "train_x, train_y = get_data('train')"
   ]
  },
  {
   "cell_type": "code",
   "execution_count": null,
   "id": "1b0cde63",
   "metadata": {},
   "outputs": [],
   "source": [
    "from dataclasses import dataclass\n",
    "\n",
    "@dataclass\n",
    "class GPTConfig:\n",
    "    sequence_len: int = block_size\n",
    "    vocab_size: int = vocab_size\n",
    "    n_layer :int = 12\n",
    "    n_head: int = 6\n",
    "    n_kv_head: int = 6\n",
    "    n_embd: int = 768"
   ]
  },
  {
   "cell_type": "code",
   "execution_count": null,
   "id": "524b7121",
   "metadata": {},
   "outputs": [],
   "source": [
    "model = GPT(GPTConfig)"
   ]
  },
  {
   "cell_type": "code",
   "execution_count": null,
   "id": "ea24de48",
   "metadata": {},
   "outputs": [],
   "source": [
    "model = model.cuda()"
   ]
  },
  {
   "cell_type": "code",
   "execution_count": null,
   "id": "fe12dd49",
   "metadata": {},
   "outputs": [],
   "source": [
    "optim = torch.optim.AdamW(model.parameters(),lr=1e-4)"
   ]
  },
  {
   "cell_type": "code",
   "execution_count": null,
   "id": "392ece9b",
   "metadata": {},
   "outputs": [],
   "source": [
    "n_batches = len(data)//batch_size\n",
    "n_epochs = 10\n",
    "seq_len = 100\n",
    "\n",
    "losses = {}\n",
    "\n",
    "for epoch in range(n_epochs):\n",
    "    for batch in range(100):\n",
    "        optim.zero_grad(set_to_none=True)\n",
    "        train_x, train_y = get_data('train', device='cuda')\n",
    "        loss, logits = model.forward(train_x, train_y)\n",
    "        loss.backward()\n",
    "        optim.step()\n",
    "        print(f'Epoch: {epoch}, Batch: {batch}, Loss: {loss}')\n",
    "        losses[epoch]= losses.get(epoch, []) + [loss.item()]\n",
    "    print(decoder(model.generate(idx = torch.zeros((1, 1), dtype=torch.long).cuda(), seq_len=100)[0].tolist()))"
   ]
  },
  {
   "cell_type": "code",
   "execution_count": null,
   "id": "cc6474f5",
   "metadata": {},
   "outputs": [],
   "source": [
    "print(decoder(model.generate(idx = torch.zeros((1, 1), dtype=torch.long).cuda(), seq_len=2000)[0].tolist()))"
   ]
  },
  {
   "cell_type": "code",
   "execution_count": null,
   "id": "0f2f3066",
   "metadata": {},
   "outputs": [],
   "source": [
    "loss_arr = []\n",
    "for i, t in losses.items():\n",
    "    loss_arr += t"
   ]
  },
  {
   "cell_type": "code",
   "execution_count": null,
   "id": "dd262bcb",
   "metadata": {},
   "outputs": [],
   "source": [
    "import matplotlib.pyplot as plt\n",
    "\n",
    "plt.plot(loss_arr)\n",
    "plt.title(\"Training loss without PE\")\n",
    "plt.savefig(\"Training loss without PE\")"
   ]
  },
  {
   "cell_type": "code",
   "execution_count": null,
   "id": "78b5206a",
   "metadata": {},
   "outputs": [],
   "source": [
    "# Byte-Pair Encoding\n",
    "\n",
    "def get_stats(ids, counts=None):\n",
    "    counts = {} if not counts else counts\n",
    "    for a, b in zip(ids, ids[1:]):\n",
    "        counts[(a,b)] = counts.get((a,b)) + 1\n",
    "    return counts\n",
    "\n",
    "def merge(ids, pair, idx):\n",
    "    i = 0\n",
    "    new_ids = []\n",
    "    while i <= len(ids)-1:\n",
    "        if ids[i]==pair[0] and ids[i+1]==pair[1]:\n",
    "            new_ids.append(idx)\n",
    "            idx+=1\n",
    "            i+=2\n",
    "        else:\n",
    "            new_ids.append(ids[i])\n",
    "            i+=1\n",
    "    return new_ids\n",
    "\n",
    "def train(text, num_merges):\n",
    "    text_bytes = text.encode(\"utf-8\")\n",
    "    ids = list(text_bytes)\n",
    "    merges = {}\n",
    "    vocab ={idx: bytes(\n",
    "        [idx]\n",
    "    ) for idx in range(256)}\n",
    "\n",
    "    for i in range(num_merges):\n",
    "        stats = get_stats(ids)\n",
    "        pair = max(stats, key=stats.get)\n",
    "        idx = 256 + i\n",
    "        ids = merge(ids, pair, idx)\n",
    "        merges[pair] = idx\n",
    "        vocab[idx] = vocab[ids[0]] + vocab[ids[1]]\n",
    "    \n",
    "    return merges, vocab\n",
    "\n",
    "def decode(ids):\n",
    "    text_bytes = \"\".join(vocab[idx] for idx in ids)\n",
    "    text = text_bytes.decode(\"utf-8\", errors=\"replace\")\n",
    "    return text\n",
    "\n",
    "def encode(text):\n",
    "    text_bytes = text.encode(\"utf-8\")\n",
    "    ids = list(text_bytes)\n",
    "\n",
    "    while len(ids) >= 2:\n",
    "        stats = get_stats(ids)\n",
    "        pair = min(stats, key=lambda p: merges.get(p, float('inf')))\n",
    "        if pair not in merges:\n",
    "            return\n",
    "        idx = merges[pair]\n",
    "        ids = merge(ids, pair, idx)\n",
    "    return ids"
   ]
  },
  {
   "cell_type": "code",
   "execution_count": null,
   "id": "0914b5d0",
   "metadata": {},
   "outputs": [],
   "source": []
  }
 ],
 "metadata": {
  "kernelspec": {
   "display_name": "minichat",
   "language": "python",
   "name": "python3"
  },
  "language_info": {
   "codemirror_mode": {
    "name": "ipython",
    "version": 3
   },
   "file_extension": ".py",
   "mimetype": "text/x-python",
   "name": "python",
   "nbconvert_exporter": "python",
   "pygments_lexer": "ipython3",
   "version": "3.12.12"
  }
 },
 "nbformat": 4,
 "nbformat_minor": 5
}
